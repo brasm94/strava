{
 "cells": [
  {
   "cell_type": "code",
   "execution_count": 1,
   "metadata": {},
   "outputs": [],
   "source": [
    "import gmaps\n",
    "import numpy as np\n",
    "import xml.etree.ElementTree as ET\n",
    "from datetime import datetime,timedelta\n",
    "from datetime import tzinfo\n",
    "import dateutil.parser"
   ]
  },
  {
   "cell_type": "code",
   "execution_count": 2,
   "metadata": {},
   "outputs": [
    {
     "name": "stdout",
     "output_type": "stream",
     "text": [
      "API Configed\n"
     ]
    }
   ],
   "source": [
    "api_key = None\n",
    "with open(\"key.txt\") as f:\n",
    "    api_key = f.readline()\n",
    "    f.close()\n",
    "if api_key:\n",
    "    gmaps.configure(api_key=api_key)\n",
    "    print(\"API Configed\")"
   ]
  },
  {
   "cell_type": "code",
   "execution_count": 3,
   "metadata": {},
   "outputs": [],
   "source": [
    "import numpy as np\n",
    "import xml.etree.ElementTree as ET\n",
    "from datetime import datetime,timedelta\n",
    "from datetime import tzinfo\n"
   ]
  },
  {
   "cell_type": "code",
   "execution_count": 99,
   "metadata": {},
   "outputs": [],
   "source": [
    "def getTrkSeg(filename):\n",
    "    tree = ET.parse(filename)\n",
    "    root = tree.getroot()\n",
    "    track = root.find(\"{http://www.topografix.com/GPX/1/1}trk\")\n",
    "    trkseg = track.find('{http://www.topografix.com/GPX/1/1}trkseg')\n",
    "    return trkseg\n",
    "def trkSeg2np(trkseg):\n",
    "    segs = len(trkseg)\n",
    "    data = np.zeros([segs,4])\n",
    "    for i,child in enumerate(trkseg):\n",
    "        data[i,0] = child.attrib['lat']\n",
    "        data[i,1] = child.attrib['lon']\n",
    "        elevElement = child[0] \n",
    "        timeElement = child[1]\n",
    "        date = timeElement.text\n",
    "        seconds,tz = convert2number(date)\n",
    "        data[i,2] = elevElement.text\n",
    "        data[i,3] = seconds\n",
    "    return data\n",
    "def convert2number(time):\n",
    "    time2 = dateutil.parser.parse(time)\n",
    "    tz = time2.tzinfo\n",
    "    time_temp = datetime(1970,1,1,tzinfo=tz)\n",
    "    delta1 = (time2-time_temp).total_seconds()\n",
    "    total_seconds = (time2-time_temp).total_seconds()\n",
    "    return total_seconds,tz\n",
    "def convert2time(total_seconds,tz):\n",
    "    delta = timedelta(seconds=total_seconds)\n",
    "    time = delta+datetime(1970,1,1,tzinfo = tz)\n",
    "    return time\n",
    "def grab_outlier(data):\n",
    "    grads = np.gradient(data,axis=0)\n",
    "    grads[:,0] = grads[:,0] / grads[:,3]\n",
    "    grads[:,1] = grads[:,1] / grads[:,3]\n",
    "    dLats = np.abs(grads[:,0])\n",
    "    dLons = np.abs(grads[:,1])\n",
    "    dMan = dLons + dLats\n",
    "    indexes = dMan > .0002\n",
    "    # for i,d,grad in zip(indexes,dMan,grads):\n",
    "    #     print(i,'%f' % d,'%f,%f,%f,%f' % (grad[0],grad[1],grad[2],grad[3]))\n",
    "    return indexes\n",
    "def make_features(data):\n",
    "    locs = data[:,0:2]\n",
    "    lines = []\n",
    "    for p1,p2 in zip(locs[1:],locs[:-1]):\n",
    "        lines += [gmaps.Line(p1,p2,stroke_weight=2.0,stroke_color='red')]\n",
    "#         lines += [gmaps.Marker(p1)]\n",
    "    return lines\n",
    "def make_markers(data,goods):\n",
    "    locs = data[:,0:2]\n",
    "    marks = []\n",
    "    color = []\n",
    "    for l,g in zip(locs,goods):\n",
    "        marks += [(l[0],l[1])]\n",
    "        if g:\n",
    "            color += ['red']\n",
    "        else:\n",
    "            color += ['blue']\n",
    "    return marks,color\n",
    "def fix_data(data,grad):\n",
    "    data2 = data\n",
    "    for i,g in enumerate(grad):\n",
    "        if\n",
    "    "
   ]
  },
  {
   "cell_type": "code",
   "execution_count": 105,
   "metadata": {},
   "outputs": [],
   "source": [
    "trkseg = getTrkSeg(\"Ioane_run_4.gpx\")\n",
    "data = trkSeg2np(trkseg)\n",
    "locs = grab_outlier(data)\n",
    "start_lat,start_lon = data[0,0],data[0,1]\n",
    "# for differnt layers\n",
    "lines = make_features(data)\n",
    "marks,colors = make_markers(data,locs)\n",
    "# print(marks)"
   ]
  },
  {
   "cell_type": "code",
   "execution_count": 106,
   "metadata": {},
   "outputs": [],
   "source": [
    "figure_layout = {'height':'800px'}\n",
    "fig = gmaps.figure(layout=figure_layout,center=(start_lat,start_lon),zoom_level=13)\n",
    "#Drawing Layer\n",
    "drawing = gmaps.drawing_layer(features=lines)\n",
    "fig.add_layer(drawing)\n",
    "# Marking Layer\n",
    "marking = gmaps.symbol_layer(marks,fill_color=colors,stroke_color=colors,fill_opacity=.5)\n",
    "fig.add_layer(marking)\n",
    "# "
   ]
  },
  {
   "cell_type": "code",
   "execution_count": 107,
   "metadata": {
    "scrolled": false
   },
   "outputs": [
    {
     "data": {
      "application/vnd.jupyter.widget-view+json": {
       "model_id": "c1a3649e7387424dae30302c4ae2c590",
       "version_major": 2,
       "version_minor": 0
      },
      "text/plain": [
       "Figure(layout=FigureLayout(height='800px'))"
      ]
     },
     "metadata": {},
     "output_type": "display_data"
    }
   ],
   "source": [
    "fig"
   ]
  },
  {
   "cell_type": "code",
   "execution_count": null,
   "metadata": {},
   "outputs": [],
   "source": []
  }
 ],
 "metadata": {
  "kernelspec": {
   "display_name": "Python 3",
   "language": "python",
   "name": "python3"
  },
  "language_info": {
   "codemirror_mode": {
    "name": "ipython",
    "version": 3
   },
   "file_extension": ".py",
   "mimetype": "text/x-python",
   "name": "python",
   "nbconvert_exporter": "python",
   "pygments_lexer": "ipython3",
   "version": "3.6.7"
  }
 },
 "nbformat": 4,
 "nbformat_minor": 2
}
